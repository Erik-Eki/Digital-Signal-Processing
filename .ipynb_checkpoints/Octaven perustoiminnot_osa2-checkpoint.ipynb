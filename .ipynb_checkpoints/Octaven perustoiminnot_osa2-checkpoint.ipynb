{
 "cells": [
  {
   "cell_type": "markdown",
   "metadata": {},
   "source": [
    "Koodin kommentoiminen https://octave.org/doc/v4.2.0/Block-Comments.html"
   ]
  },
  {
   "cell_type": "code",
   "execution_count": null,
   "metadata": {},
   "outputs": [],
   "source": [
    "%Tämä on kommentti\n",
    "\n",
    "%{\n",
    "Tämä on koodiblokin kommentti\n",
    "Muista kirjoittaa kommentin aloitus ja lopetus omille riveilleen \n",
    "%}\n"
   ]
  },
  {
   "cell_type": "markdown",
   "metadata": {},
   "source": [
    "Useiden kuvaajien piirtäminen samaan ikkunaan komennolla \"hold on\""
   ]
  },
  {
   "cell_type": "code",
   "execution_count": null,
   "metadata": {},
   "outputs": [],
   "source": [
    "t=0:0.02:1; %Luodaan tasavälinen aikavektori\n",
    "\n",
    "sini=5*sin(2*pi*2*t); %Luodaan sinisignaali\n",
    "kosini=3*cos(2*pi*3*t); %Luodaan kosinisignaali\n",
    "\n",
    "figure(\"Name\",\"Sini ja kosini\") % Luodaan figure nimeltä \"sini ja kosini\". HUOM! Avaa nimen mukaisen ikkunan, kun käytetään Octave-sovellusta, ei toimi täysin oikein Notebookilla\n",
    "plot(t,sini,'r-*') %Piirretään sinisignaali\n",
    "hold on %Pakotetaan seuraavat piirto-operaatiot samaan ikkunaan\n",
    "plot(t,kosini,'g-+') %Piirretään kosinisignaali\n",
    "title('Sini ja kosini')\n",
    "xlabel('Aika [s]')\n",
    "ylabel('Signaalin arvo')\n",
    "grid on\n",
    "\n",
    "hold off %Vapautetaan kuvaaja"
   ]
  },
  {
   "cell_type": "markdown",
   "metadata": {},
   "source": [
    "Useiden kuvaajien piirtäminen samalle sivulle/alustalle subplot-komennolla\n",
    "https://octave.org/doc/v4.2.1/Multiple-Plots-on-One-Page.html\n",
    "https://octave.sourceforge.io/octave/function/subplot.html"
   ]
  },
  {
   "cell_type": "code",
   "execution_count": null,
   "metadata": {},
   "outputs": [],
   "source": [
    "t=0:0.02:1; %Luodaan tasavälinen aikavektori\n",
    "\n",
    "sini=5*sin(2*pi*2*t); %Luodaan sinisignaali\n",
    "kosini=3*cos(2*pi*3*t); %Luodaan kosinisignaali\n",
    "summa=sini+kosini; %Summataan sini ja kosini keskenään\n",
    "\n",
    "subplot(3,1,1) %Luodaan alusta, jossa on ikkunoita 3 rivillä (1.parametri) ja yhdellä sarakkeella (2.parametri). Viimeinen parametri viittaa tässä tapauksessa ylinpään ikkunaan.\n",
    "plot(t,sini)\n",
    "grid on\n",
    "subplot(3,1,2) %Viitataan viimeisellä parametrilla keskimmäiseen ikkunaan\n",
    "plot(t,kosini,'g')\n",
    "grid on\n",
    "subplot(3,1,3) %Viitataan viimeisellä parametrilla alimpaan ikkunaan\n",
    "plot(t,summa,'k')\n",
    "grid on\n"
   ]
  },
  {
   "cell_type": "markdown",
   "metadata": {},
   "source": [
    "Asteiden muuttaminen radiaaneiksi ja päinvastoin"
   ]
  },
  {
   "cell_type": "code",
   "execution_count": null,
   "metadata": {},
   "outputs": [],
   "source": [
    "asteet=90;\n",
    "asteet_radiaaneina=deg2rad(asteet) %Muutetaan asteet radiaaneiksi\n",
    "\n",
    "radiaanit=pi/3;\n",
    "radiaanit_asteina=rad2deg(radiaanit) %Muutetaan radiaanit asteiksi\n"
   ]
  },
  {
   "cell_type": "markdown",
   "metadata": {},
   "source": [
    "Arkustangentin laskeminen komennoilla atan, atan2 ja angle\n",
    "Tätä ominaisuutta tarvitaan mm. kompleksilukujen yhteydessä\n",
    "https://octave.org/doc/v4.0.0/Trigonometry.html"
   ]
  },
  {
   "cell_type": "code",
   "execution_count": null,
   "metadata": {},
   "outputs": [],
   "source": [
    "z=-2+3i; %Kompleksiluku, jonka reaaliosa on -2 ja imaginaariosa 3\n",
    "\n",
    "#Vaihekulma lasketaan arkustangenttina suhteelle imaginaariosa/reaaliosa\n",
    "\n",
    "vaihekulma_atan_komennolla=atan(imag(z)/real(z)) %Antaa tulokseksi väärän vaihekulman, koska atan on määritelty vain välillä -90...+90 astetta.\n",
    "\n",
    "vaihekulma_atan2_komennolla=atan2(imag(z),real(z)) %Antaa tulokseksi oikean vaihekulman\n",
    "\n",
    "vaihekulma_angle_komennolla=angle(z) %Antaa tulokseksi oikean vaihekulman, koska taustalla on sama syntaksi kuin atan2-funktiossa"
   ]
  },
  {
   "cell_type": "markdown",
   "metadata": {},
   "source": [
    "Yksinkertaisen silmukkarakenteen toteuttaminen Octavella"
   ]
  },
  {
   "cell_type": "code",
   "execution_count": null,
   "metadata": {},
   "outputs": [],
   "source": [
    "#Luodaan taulukko kahdella sisäkkäisellä for-silmukalla\n",
    "\n",
    "r_lkm=10; %Määritellään rivien ja sarakkeiden lukumäärä\n",
    "s_lkm=10;\n",
    "\n",
    "taulukko=zeros(r_lkm,s_lkm); %Voidaan haluttaessa varata taulukolle tilaa alustamalla nolla-taulukko\n",
    "\n",
    "for r = 1:r_lkm\n",
    "    for s=1:s_lkm\n",
    "    taulukko(r,s)=r*s; %Sijoitetaan indeksien s ja r tulo indeksille (r,s) \n",
    "    end\n",
    "end\n",
    "\n",
    "disp(taulukko)"
   ]
  },
  {
   "cell_type": "markdown",
   "metadata": {},
   "source": [
    "Yksinkertainen kumulatiivinen summaaminen for-silmukan avulla"
   ]
  },
  {
   "cell_type": "code",
   "execution_count": null,
   "metadata": {},
   "outputs": [],
   "source": [
    "summa=0;\n",
    "for i = 1:10\n",
    "    summa=summa+i;\n",
    "    end\n",
    "    \n",
    "summa"
   ]
  }
 ],
 "metadata": {
  "kernelspec": {
   "display_name": "Octave",
   "language": "octave",
   "name": "octave"
  },
  "language_info": {
   "file_extension": ".m",
   "help_links": [
    {
     "text": "GNU Octave",
     "url": "https://www.gnu.org/software/octave/support.html"
    },
    {
     "text": "Octave Kernel",
     "url": "https://github.com/Calysto/octave_kernel"
    },
    {
     "text": "MetaKernel Magics",
     "url": "https://metakernel.readthedocs.io/en/latest/source/README.html"
    }
   ],
   "mimetype": "text/x-octave",
   "name": "octave",
   "version": "4.2.2"
  }
 },
 "nbformat": 4,
 "nbformat_minor": 4
}
