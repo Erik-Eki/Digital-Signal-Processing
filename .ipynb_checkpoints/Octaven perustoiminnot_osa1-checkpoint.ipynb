{
 "cells": [
  {
   "cell_type": "markdown",
   "metadata": {},
   "source": [
    "Muuttujan luominen"
   ]
  },
  {
   "cell_type": "code",
   "execution_count": 1,
   "metadata": {},
   "outputs": [],
   "source": [
    "a=1;\n",
    "b=\"Tekstiä\";"
   ]
  },
  {
   "cell_type": "markdown",
   "metadata": {},
   "source": [
    "Puolipisteen jättäminen pois tulostaa muuttujan arvon. Vaihtoehtoisesti voi käyttää funktioita \"disp\" tai \"printf\""
   ]
  },
  {
   "cell_type": "code",
   "execution_count": 2,
   "metadata": {},
   "outputs": [
    {
     "name": "stdout",
     "output_type": "stream",
     "text": [
      "a =  1\n",
      "b = tekstiä\n",
      " 1\n",
      "tekstiä"
     ]
    }
   ],
   "source": [
    "a=1\n",
    "b=\"tekstiä\"\n",
    "disp(a)\n",
    "printf(\"%s\",b)"
   ]
  },
  {
   "cell_type": "markdown",
   "metadata": {},
   "source": [
    "Vaakavektori luodaan seuraavasti:"
   ]
  },
  {
   "cell_type": "code",
   "execution_count": 3,
   "metadata": {},
   "outputs": [
    {
     "name": "stdout",
     "output_type": "stream",
     "text": [
      "   1   2   3   4   5\n",
      "   1   2   3   4   5\n"
     ]
    }
   ],
   "source": [
    "c=[1 2 3 4 5]; %tai vaihtoehtoisesti kuten alla\n",
    "d=[1,2,3,4,5];\n",
    "disp(c)\n",
    "disp(d)"
   ]
  },
  {
   "cell_type": "markdown",
   "metadata": {},
   "source": [
    "Pystyvektori luodaan tähän tapaan rivierottimena puolipiste"
   ]
  },
  {
   "cell_type": "code",
   "execution_count": null,
   "metadata": {},
   "outputs": [],
   "source": [
    "e=[1;2;3;4;5];\n",
    "disp(e)"
   ]
  },
  {
   "cell_type": "markdown",
   "metadata": {},
   "source": [
    "Kahden vekorin tai taulukon yhdistäminen peräkkäin onnistuu mm. tähän tapaan"
   ]
  },
  {
   "cell_type": "code",
   "execution_count": null,
   "metadata": {},
   "outputs": [],
   "source": [
    "v1=[1 2 3];\n",
    "v2=[4 5 6];\n",
    "v3=[v1 v2];\n",
    "disp(v3)"
   ]
  },
  {
   "cell_type": "markdown",
   "metadata": {},
   "source": [
    "Kahden vekorin tai taulukon yhdistäminen allekkain onnistuu mm. tähän tapaan"
   ]
  },
  {
   "cell_type": "code",
   "execution_count": null,
   "metadata": {},
   "outputs": [],
   "source": [
    "v1=[1 2 3];\n",
    "v2=[4 5 6];\n",
    "v3=[v1; v2];\n",
    "disp(v3)"
   ]
  },
  {
   "cell_type": "markdown",
   "metadata": {},
   "source": [
    "Transpoosi muuttaa rivit sarakkeiksi ja päinvastoin. Alla kaksi esimerkkiä; toinen reaaliluvuille, toinen kompleksiluvuille."
   ]
  },
  {
   "cell_type": "code",
   "execution_count": null,
   "metadata": {},
   "outputs": [],
   "source": [
    "taulu1=[1 2 3; 4 5 6; 7 8 9]; %Reaalilukuja sisältävä taulukko\n",
    "taulu2=[3+2i 4+1i; 1-6i 7+2i]; %Kompleksilukuja sisältävä taulukko\n",
    "disp (\"taulu1\"),disp(taulu1) \n",
    "disp (\"taulu1 transpoosi\"), disp(taulu1') %reaalisen taulukon transpoosi operaattorina heittomerkki\n",
    "disp(\"taulu2\"),disp(taulu2)\n",
    "%Kompleksisen taulukon transpoosi\n",
    "disp(\"taulu2 transpoosi\"),disp(taulu2.') \n"
   ]
  },
  {
   "cell_type": "markdown",
   "metadata": {},
   "source": [
    "Taulukon alkioihin viittaaminen. HUOM! Octavessa indeksointi alkaa 1:stä!!!!"
   ]
  },
  {
   "cell_type": "code",
   "execution_count": null,
   "metadata": {},
   "outputs": [],
   "source": [
    "t=magic(5) %luodaan epämääräinen taulukko sisäänrakennetulla funktiolla\n",
    "t(1,3) %tarkastellaan 1.rivin 3:tta alkiota\n",
    "t(2,:) %tarkastellaan 2.rivin kaikkia alkioita\n",
    "t(2:3,4:5) %tarkastellaan 2. ja 3.rivin alkioita sarakkeilla 4 ja 5\n",
    "t(4,2:end) %tarkastellaan 4.rivin alkioita 2:sta eteenpäin"
   ]
  },
  {
   "cell_type": "markdown",
   "metadata": {},
   "source": [
    "Taulukon arvojen muokkaaminen"
   ]
  },
  {
   "cell_type": "code",
   "execution_count": null,
   "metadata": {},
   "outputs": [],
   "source": [
    "t=magic(5)\n",
    "t(1,1)=99 %sijoitetaan taulukon yläkulmaan numero 99\n",
    "t(3,:)=100 %korvataan taulukon kolmannen rivin alkiot numerolla 100\n",
    "t(4:5,1:2)=66 %sijoitetaan numero 66 taulukon 4. ja 5.rivin sarakkeille 1 ja 2 "
   ]
  },
  {
   "cell_type": "markdown",
   "metadata": {},
   "source": [
    "Taulukon viipaloiminen ja tallentaminen toiseen muuttujaan"
   ]
  },
  {
   "cell_type": "code",
   "execution_count": null,
   "metadata": {},
   "outputs": [],
   "source": [
    "t=magic(3)\n",
    "viipale=t(1,:) %Tallennetaan uuteen muuttujaan taulukon 1. rivi\n",
    "siivu =t(:,2:3) %Tallennetaan uuteen muuttujaan taulukon kaikki rivit sarakkeilta 2 ja 3"
   ]
  },
  {
   "cell_type": "markdown",
   "metadata": {},
   "source": [
    "TÄRKEÄ!! Tasavälisen verktorin luominen. Tarvitaan toistuvasti mm. aika- ja taajuusvektoreiden luomisessa"
   ]
  },
  {
   "cell_type": "code",
   "execution_count": null,
   "metadata": {},
   "outputs": [],
   "source": [
    "vektori=0:1:10 %Luo tasavälisen vertorin sykstaksilla (aloitus:askel:lopetus)\n",
    "vektori_skaalattu=(0:1:10)*0.2 %luo ensiksi vektorin 0,1,2...10 ja skaalaa kaikki arvot kertoimella 0.2\n",
    "\n",
    "%Muita tapoja ovat kömpelöt silmukkarakenteet tai näppärä funktio linspace, josta esimerkki alla\n",
    "vektori2=linspace(0,10,11) % linspace (base, limit, n)"
   ]
  },
  {
   "cell_type": "markdown",
   "metadata": {},
   "source": [
    "Vektorin pituuden tai taulukon dimensioiden tarkastelu"
   ]
  },
  {
   "cell_type": "code",
   "execution_count": null,
   "metadata": {},
   "outputs": [],
   "source": [
    "v=[1 3 5 7 9];\n",
    "v_pituus=length(v) %vektorin pituus\n",
    "\n",
    "t=[1 5 3 7 9; 3 1 2 0 5];\n",
    "[rivit, sarakkeet]=size(t) %taulukon dimensiot"
   ]
  },
  {
   "cell_type": "markdown",
   "metadata": {},
   "source": [
    "Nollia tai ykkösiä sisältävien taulukoiden luominen"
   ]
  },
  {
   "cell_type": "code",
   "execution_count": null,
   "metadata": {},
   "outputs": [],
   "source": [
    "nollataulu=zeros(2,7) %Luo nollista koostuvan taulukon, jonka koko on 2x7\n",
    "ykkostaulu=ones(6,3) %Luo ykkösistä koostuvan taulukon, jonka koko on 6x3"
   ]
  },
  {
   "cell_type": "markdown",
   "metadata": {},
   "source": [
    "Elementtikohtainen operaattori"
   ]
  },
  {
   "cell_type": "code",
   "execution_count": null,
   "metadata": {},
   "outputs": [],
   "source": [
    "v=[1 2 3 -3 -5 -7];\n",
    "v_toiseen=v.^2 %elementtikohtaista operaattoria käytetään, jos halutaan kohdentaa operaatio erikseen kuhunkin elementtiin\n",
    "\n",
    "v1=[1 2 3];\n",
    "v2=[8 5 7];\n",
    "v3=v1.*v2 %Muodostetaan verktoreiden tulo elementtikohtaisesti\n",
    "\n",
    "%Tämä operaatio ei olisi sallittu v3=v1*v2, koska operaatio on matriisien kertolaskusääntöjen vastainen \n"
   ]
  },
  {
   "cell_type": "markdown",
   "metadata": {},
   "source": [
    "Vektorin hyödyntäminen osana funktiota ja signaalin visualisoiminen"
   ]
  },
  {
   "cell_type": "code",
   "execution_count": null,
   "metadata": {},
   "outputs": [],
   "source": [
    "t=0:0.01:1; %Luodaan vektori, joka sisältää arvot 0,0.01,0.02...1\n",
    "sini=3*sin(2*pi*1*t); %Lasketaan sinin \"A*sin(2*pi*f*t)\" arvot vektorin t avulla. Arvoja ei tarvitse laskea esim. for-silmukassa. Sinin amplitudi on 3 ja taajuus on 1 Hz (1 jakso/sekunti)\n",
    "\n",
    "figure; plot(t,sini) %esitetään sinin arvot t:n funktiona. Plot-funktio yhdistää yksittäiset arvot viivalla. Fugure-komento avaa uuden piirtoikkunan\n",
    "title('plot(t.sini)')\n",
    "\n",
    "figure; stem(t,sini) %Stem-funktio esittää arvot diskreetissä muodossa. Figure-komento avaa uuden piirtoikkunan\n",
    "title('stem(t,sini)')\n",
    "\n",
    "figure; plot(t,sini,'-*r') %kolmanteen argumenttiin voi määritellä piirtöön liittyviä erityisehtoja. Tässä pisteet pisteiden symboli on *, pisteet yhdistetään viivalla ja värinä on punainen (r)\n",
    "title('plot(t,sini,\"-*r\")') %Annetaan kuvalle otsikko\n",
    "xlabel('Aika [s]') %Nimetään x-akseli\n",
    "ylabel('Signaalin arvo') %Nimetään y-akseli\n",
    "grid on %aktivoidaan taustaruudukko\n"
   ]
  },
  {
   "cell_type": "markdown",
   "metadata": {},
   "source": [
    "Testausta"
   ]
  },
  {
   "cell_type": "code",
   "execution_count": null,
   "metadata": {},
   "outputs": [],
   "source": []
  }
 ],
 "metadata": {
  "kernelspec": {
   "display_name": "Octave",
   "language": "octave",
   "name": "octave"
  },
  "language_info": {
   "file_extension": ".m",
   "help_links": [
    {
     "text": "GNU Octave",
     "url": "https://www.gnu.org/software/octave/support.html"
    },
    {
     "text": "Octave Kernel",
     "url": "https://github.com/Calysto/octave_kernel"
    },
    {
     "text": "MetaKernel Magics",
     "url": "https://metakernel.readthedocs.io/en/latest/source/README.html"
    }
   ],
   "mimetype": "text/x-octave",
   "name": "octave",
   "version": "4.2.2"
  }
 },
 "nbformat": 4,
 "nbformat_minor": 4
}
